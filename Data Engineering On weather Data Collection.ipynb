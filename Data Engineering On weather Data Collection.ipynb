{
 "cells": [
  {
   "cell_type": "markdown",
   "metadata": {
    "application/vnd.databricks.v1+cell": {
     "cellMetadata": {
      "byteLimit": 2048000,
      "rowLimit": 10000
     },
     "inputWidgets": {},
     "nuid": "5f80567e-3938-4c9a-b207-0002858216b2",
     "showTitle": false,
     "tableResultSettingsMap": {},
     "title": ""
    }
   },
   "source": [
    "##Data Ingestion"
   ]
  },
  {
   "cell_type": "code",
   "execution_count": 0,
   "metadata": {
    "application/vnd.databricks.v1+cell": {
     "cellMetadata": {
      "byteLimit": 2048000,
      "rowLimit": 10000
     },
     "inputWidgets": {},
     "nuid": "d407d099-666a-4dcf-9d6d-610d79296281",
     "showTitle": false,
     "tableResultSettingsMap": {},
     "title": ""
    }
   },
   "outputs": [],
   "source": [
    "# Install necessary libraries\n",
    "import requests\n",
    "import datetime"
   ]
  },
  {
   "cell_type": "code",
   "execution_count": 0,
   "metadata": {
    "application/vnd.databricks.v1+cell": {
     "cellMetadata": {
      "byteLimit": 2048000,
      "rowLimit": 10000
     },
     "inputWidgets": {},
     "nuid": "d833c923-d83d-40c1-a222-d156d956fe48",
     "showTitle": false,
     "tableResultSettingsMap": {},
     "title": ""
    }
   },
   "outputs": [],
   "source": [
    "# API setup\n",
    "API_KEY = 'c1d0f294ee92ad3c62e99d697f6f615a' \n",
    "CITY = 'West Bengal'\n",
    "URL = f\"http://api.openweathermap.org/data/2.5/weather?q={CITY}&appid={API_KEY}\""
   ]
  },
  {
   "cell_type": "markdown",
   "metadata": {
    "application/vnd.databricks.v1+cell": {
     "cellMetadata": {
      "byteLimit": 2048000,
      "rowLimit": 10000
     },
     "inputWidgets": {},
     "nuid": "40a87970-be1d-4370-b88a-89e19181e89a",
     "showTitle": false,
     "tableResultSettingsMap": {},
     "title": ""
    }
   },
   "source": [
    "##Data Validation and Error Handling"
   ]
  },
  {
   "cell_type": "code",
   "execution_count": 0,
   "metadata": {
    "application/vnd.databricks.v1+cell": {
     "cellMetadata": {
      "byteLimit": 2048000,
      "rowLimit": 10000
     },
     "inputWidgets": {},
     "nuid": "4a3356cb-050a-48c6-8903-f084d737ddd2",
     "showTitle": false,
     "tableResultSettingsMap": {},
     "title": ""
    }
   },
   "outputs": [],
   "source": [
    "# Function to fetch weather data\n",
    "def fetch_weather_data():\n",
    "    response = requests.get(URL)\n",
    "    if response.status_code == 200:\n",
    "        data = response.json()\n",
    "        return {\n",
    "            'city': data['name'],\n",
    "            'temperature': data['main']['temp'],\n",
    "            'description': data['weather'][0]['description'],\n",
    "            'timestamp': datetime.datetime.now().isoformat()\n",
    "        }\n",
    "    else:\n",
    "        print(f\"Error: {response.status_code}\")\n",
    "        return None"
   ]
  },
  {
   "cell_type": "code",
   "execution_count": 0,
   "metadata": {
    "application/vnd.databricks.v1+cell": {
     "cellMetadata": {
      "byteLimit": 2048000,
      "rowLimit": 10000
     },
     "inputWidgets": {},
     "nuid": "db11d1c2-e4fb-49a9-9e23-a04fa33ed0dd",
     "showTitle": false,
     "tableResultSettingsMap": {},
     "title": ""
    }
   },
   "outputs": [
    {
     "output_type": "stream",
     "name": "stdout",
     "output_type": "stream",
     "text": [
      "{'city': 'West Bengal', 'temperature': 304.56, 'description': 'clear sky', 'timestamp': '2024-11-03T09:22:45.374898'}\n"
     ]
    }
   ],
   "source": [
    "# Fetch and display weather data\n",
    "weather_data = fetch_weather_data()\n",
    "print(weather_data)"
   ]
  },
  {
   "cell_type": "markdown",
   "metadata": {
    "application/vnd.databricks.v1+cell": {
     "cellMetadata": {
      "byteLimit": 2048000,
      "rowLimit": 10000
     },
     "inputWidgets": {},
     "nuid": "ef44719f-4fc5-4aa4-85a4-b3d6166efc70",
     "showTitle": false,
     "tableResultSettingsMap": {},
     "title": ""
    }
   },
   "source": [
    "##Data Storage"
   ]
  },
  {
   "cell_type": "code",
   "execution_count": 0,
   "metadata": {
    "application/vnd.databricks.v1+cell": {
     "cellMetadata": {
      "byteLimit": 2048000,
      "rowLimit": 10000
     },
     "inputWidgets": {},
     "nuid": "3f3f0762-d0c6-41c1-b87d-2f03cd012e2b",
     "showTitle": false,
     "tableResultSettingsMap": {},
     "title": ""
    }
   },
   "outputs": [],
   "source": [
    "from pyspark.sql import SparkSession\n",
    "\n",
    "# Initialize Spark session\n",
    "spark = SparkSession.builder.getOrCreate()\n",
    "\n",
    "# Convert weather data to DataFrame\n",
    "weather_df = spark.createDataFrame([weather_data])\n",
    "\n",
    "# Save the DataFrame to Delta Lake\n",
    "weather_df.write.format(\"delta\").mode(\"append\").save(\"/mntt/delta/weather_data\")"
   ]
  },
  {
   "cell_type": "markdown",
   "metadata": {
    "application/vnd.databricks.v1+cell": {
     "cellMetadata": {
      "byteLimit": 2048000,
      "rowLimit": 10000
     },
     "inputWidgets": {},
     "nuid": "b265f627-0c8f-4c4b-9981-e2e586be361a",
     "showTitle": false,
     "tableResultSettingsMap": {},
     "title": ""
    }
   },
   "source": [
    "##Data Preprocessing and Cleaning "
   ]
  },
  {
   "cell_type": "code",
   "execution_count": 0,
   "metadata": {
    "application/vnd.databricks.v1+cell": {
     "cellMetadata": {
      "byteLimit": 2048000,
      "rowLimit": 10000
     },
     "inputWidgets": {},
     "nuid": "07222bca-91c8-4661-90a2-f2c8af2c2893",
     "showTitle": false,
     "tableResultSettingsMap": {},
     "title": ""
    }
   },
   "outputs": [
    {
     "output_type": "stream",
     "name": "stdout",
     "output_type": "stream",
     "text": [
      "+-----------+----------------+-----------+--------------------+\n|       city|     description|temperature|           timestamp|\n+-----------+----------------+-----------+--------------------+\n|  Bengaluru|scattered clouds|     295.88|2024-11-01T18:16:...|\n| Tamil Nadu| overcast clouds|     301.85|2024-11-03T09:04:...|\n|    Kitturu| overcast clouds|     297.32|2024-11-01T18:15:...|\n|West Bengal|       clear sky|     304.56|2024-11-03T09:17:...|\n|West Bengal|       clear sky|     304.56|2024-11-03T09:16:...|\n|      Kochi| overcast clouds|     299.14|2024-11-01T18:19:...|\n|West Bengal|       clear sky|     304.56|2024-11-03T09:13:...|\n|West Bengal|       clear sky|     304.56|2024-11-03T09:22:...|\n|West Bengal|       clear sky|     304.56|2024-11-03T09:15:...|\n|     Kerala|   broken clouds|     303.97|2024-11-03T09:07:...|\n|  Jharkhand|       clear sky|     302.15|2024-11-03T08:24:...|\n|  Rajasthan|       clear sky|      306.6|2024-11-03T08:31:...|\n|       Pune|   broken clouds|     297.68|2024-11-01T18:20:...|\n|    Haryana|       clear sky|      306.4|2024-11-03T09:02:...|\n|    Gujarat|       clear sky|     305.61|2024-11-03T06:22:...|\n|     Rajkot|       clear sky|     306.66|2024-11-03T06:35:...|\n|     Punjab|       clear sky|     307.94|2024-11-03T07:34:...|\n|     Kanpur|       clear sky|     297.05|2024-11-01T18:21:...|\n| Trivandrum|            mist|     298.14|2024-11-02T17:17:...|\n|  Ahmedabad|           smoke|     299.17|2024-11-01T18:16:...|\n+-----------+----------------+-----------+--------------------+\nonly showing top 20 rows\n\n"
     ]
    }
   ],
   "source": [
    "weather_df = spark.read.format(\"delta\").load(\"/mntt/delta/weather_data\")\n",
    "\n",
    "# Clean data: drop null values\n",
    "cleaned_df = weather_df.dropna()\n",
    "\n",
    "# Show cleaned data\n",
    "cleaned_df.show()"
   ]
  },
  {
   "cell_type": "markdown",
   "metadata": {
    "application/vnd.databricks.v1+cell": {
     "cellMetadata": {
      "byteLimit": 2048000,
      "rowLimit": 10000
     },
     "inputWidgets": {},
     "nuid": "f8a6457d-0e05-4d92-91fa-af1921a6604c",
     "showTitle": false,
     "tableResultSettingsMap": {},
     "title": ""
    }
   },
   "source": [
    "##Data Analysis and Aggregation in Scala"
   ]
  },
  {
   "cell_type": "code",
   "execution_count": 0,
   "metadata": {
    "application/vnd.databricks.v1+cell": {
     "cellMetadata": {
      "byteLimit": 2048000,
      "rowLimit": 10000
     },
     "inputWidgets": {},
     "nuid": "273e1ca8-1008-4662-b793-f51eb79c944a",
     "showTitle": false,
     "tableResultSettingsMap": {},
     "title": ""
    }
   },
   "outputs": [
    {
     "output_type": "display_data",
     "data": {
      "text/html": [
       "<style scoped>\n",
       "  .ansiout {\n",
       "    display: block;\n",
       "    unicode-bidi: embed;\n",
       "    white-space: pre-wrap;\n",
       "    word-wrap: break-word;\n",
       "    word-break: break-all;\n",
       "    font-family: \"Menlo\", \"Monaco\", \"Consolas\", \"Ubuntu Mono\", \"Source Code Pro\", monospace;\n",
       "    font-size: 13px;\n",
       "    color: #555;\n",
       "    margin-left: 4px;\n",
       "    line-height: 19px;\n",
       "  }\n",
       "</style>\n",
       "<div class=\"ansiout\">+-----------+----------------+-----------+--------------------+\n",
       "       city|     description|temperature|           timestamp|\n",
       "+-----------+----------------+-----------+--------------------+\n",
       "  Bengaluru|scattered clouds|     295.88|2024-11-01T18:16:...|\n",
       " Tamil Nadu| overcast clouds|     301.85|2024-11-03T09:04:...|\n",
       "West Bengal|       clear sky|     304.56|2024-11-03T09:13:...|\n",
       "      Kochi| overcast clouds|     299.14|2024-11-01T18:19:...|\n",
       "     Kerala|   broken clouds|     303.97|2024-11-03T09:07:...|\n",
       "  Jharkhand|       clear sky|     302.15|2024-11-03T08:24:...|\n",
       "       Pune|   broken clouds|     297.68|2024-11-01T18:20:...|\n",
       "     Kanpur|       clear sky|     297.05|2024-11-01T18:21:...|\n",
       "     Rajkot|       clear sky|     306.66|2024-11-03T06:35:...|\n",
       "     Punjab|       clear sky|     307.94|2024-11-03T07:34:...|\n",
       " Trivandrum|            mist|     298.14|2024-11-02T16:11:...|\n",
       " Trivandrum|            mist|     298.14|2024-11-02T17:17:...|\n",
       " Trivandrum|            mist|     300.14|2024-11-01T18:24:...|\n",
       " Trivandrum|            mist|     298.14|2024-11-02T17:16:...|\n",
       "  Hyderabad|            haze|     297.88|2024-11-01T18:18:...|\n",
       "       Agra|       clear sky|     299.01|2024-11-01T18:20:...|\n",
       "    Chennai|            mist|     301.51|2024-11-01T18:17:...|\n",
       "    Lucknow|            mist|     294.14|2024-11-01T18:17:...|\n",
       "     Jaipur|            haze|     297.77|2024-11-01T18:18:...|\n",
       "     Mumbai|            haze|     303.14|2024-11-01T18:17:...|\n",
       "+-----------+----------------+-----------+--------------------+\n",
       "only showing top 20 rows\n",
       "\n",
       "+-----------+------------------+\n",
       "       city|   avg_temperature|\n",
       "+-----------+------------------+\n",
       " Tamil Nadu|            301.85|\n",
       "  Bengaluru|            295.88|\n",
       "    Kitturu|            297.32|\n",
       "West Bengal|304.56000000000006|\n",
       "      Kochi|            299.14|\n",
       "     Kerala|            303.97|\n",
       "    Haryana|             306.4|\n",
       "  Jharkhand|            302.15|\n",
       "    Gujarat|            305.61|\n",
       "       Pune|            297.68|\n",
       "  Rajasthan|             306.6|\n",
       "     Punjab|            307.94|\n",
       "  Ahmedabad|            299.17|\n",
       " Trivandrum|            298.64|\n",
       "     Kanpur|            297.05|\n",
       "     Rajkot|            306.66|\n",
       "      Assam|             301.5|\n",
       "  Hyderabad|            297.88|\n",
       "    Chennai|            301.51|\n",
       "    Lucknow|            294.14|\n",
       "+-----------+------------------+\n",
       "only showing top 20 rows\n",
       "\n",
       "import org.apache.spark.sql.SparkSession\n",
       "import org.apache.spark.sql.functions._\n",
       "weatherDataPath: String = /mntt/delta/weather_data\n",
       "rawData: org.apache.spark.sql.DataFrame = [city: string, description: string ... 2 more fields]\n",
       "cleanedData: org.apache.spark.sql.DataFrame = [city: string, temperature: double ... 2 more fields]\n",
       "averageTemp: org.apache.spark.sql.DataFrame = [city: string, avg_temperature: double]\n",
       "</div>"
      ]
     },
     "metadata": {
      "application/vnd.databricks.v1+output": {
       "addedWidgets": {},
       "arguments": {},
       "data": "<div class=\"ansiout\">+-----------+----------------+-----------+--------------------+\n|       city|     description|temperature|           timestamp|\n+-----------+----------------+-----------+--------------------+\n|  Bengaluru|scattered clouds|     295.88|2024-11-01T18:16:...|\n| Tamil Nadu| overcast clouds|     301.85|2024-11-03T09:04:...|\n|West Bengal|       clear sky|     304.56|2024-11-03T09:13:...|\n|      Kochi| overcast clouds|     299.14|2024-11-01T18:19:...|\n|     Kerala|   broken clouds|     303.97|2024-11-03T09:07:...|\n|  Jharkhand|       clear sky|     302.15|2024-11-03T08:24:...|\n|       Pune|   broken clouds|     297.68|2024-11-01T18:20:...|\n|     Kanpur|       clear sky|     297.05|2024-11-01T18:21:...|\n|     Rajkot|       clear sky|     306.66|2024-11-03T06:35:...|\n|     Punjab|       clear sky|     307.94|2024-11-03T07:34:...|\n| Trivandrum|            mist|     298.14|2024-11-02T16:11:...|\n| Trivandrum|            mist|     298.14|2024-11-02T17:17:...|\n| Trivandrum|            mist|     300.14|2024-11-01T18:24:...|\n| Trivandrum|            mist|     298.14|2024-11-02T17:16:...|\n|  Hyderabad|            haze|     297.88|2024-11-01T18:18:...|\n|       Agra|       clear sky|     299.01|2024-11-01T18:20:...|\n|    Chennai|            mist|     301.51|2024-11-01T18:17:...|\n|    Lucknow|            mist|     294.14|2024-11-01T18:17:...|\n|     Jaipur|            haze|     297.77|2024-11-01T18:18:...|\n|     Mumbai|            haze|     303.14|2024-11-01T18:17:...|\n+-----------+----------------+-----------+--------------------+\nonly showing top 20 rows\n\n+-----------+------------------+\n|       city|   avg_temperature|\n+-----------+------------------+\n| Tamil Nadu|            301.85|\n|  Bengaluru|            295.88|\n|    Kitturu|            297.32|\n|West Bengal|304.56000000000006|\n|      Kochi|            299.14|\n|     Kerala|            303.97|\n|    Haryana|             306.4|\n|  Jharkhand|            302.15|\n|    Gujarat|            305.61|\n|       Pune|            297.68|\n|  Rajasthan|             306.6|\n|     Punjab|            307.94|\n|  Ahmedabad|            299.17|\n| Trivandrum|            298.64|\n|     Kanpur|            297.05|\n|     Rajkot|            306.66|\n|      Assam|             301.5|\n|  Hyderabad|            297.88|\n|    Chennai|            301.51|\n|    Lucknow|            294.14|\n+-----------+------------------+\nonly showing top 20 rows\n\nimport org.apache.spark.sql.SparkSession\nimport org.apache.spark.sql.functions._\nweatherDataPath: String = /mntt/delta/weather_data\nrawData: org.apache.spark.sql.DataFrame = [city: string, description: string ... 2 more fields]\ncleanedData: org.apache.spark.sql.DataFrame = [city: string, temperature: double ... 2 more fields]\naverageTemp: org.apache.spark.sql.DataFrame = [city: string, avg_temperature: double]\n</div>",
       "datasetInfos": [
        {
         "name": "rawData",
         "schema": {
          "fields": [
           {
            "metadata": {},
            "name": "city",
            "nullable": true,
            "type": "string"
           },
           {
            "metadata": {},
            "name": "description",
            "nullable": true,
            "type": "string"
           },
           {
            "metadata": {},
            "name": "temperature",
            "nullable": true,
            "type": "double"
           },
           {
            "metadata": {},
            "name": "timestamp",
            "nullable": true,
            "type": "string"
           }
          ],
          "type": "struct"
         },
         "tableIdentifier": "dbfs:/mntt/delta/weather_data",
         "typeStr": "org.apache.spark.sql.DataFrame"
        },
        {
         "name": "cleanedData",
         "schema": {
          "fields": [
           {
            "metadata": {},
            "name": "city",
            "nullable": true,
            "type": "string"
           },
           {
            "metadata": {},
            "name": "temperature",
            "nullable": true,
            "type": "double"
           },
           {
            "metadata": {},
            "name": "description",
            "nullable": true,
            "type": "string"
           },
           {
            "metadata": {},
            "name": "timestamp",
            "nullable": true,
            "type": "timestamp"
           }
          ],
          "type": "struct"
         },
         "tableIdentifier": null,
         "typeStr": "org.apache.spark.sql.DataFrame"
        },
        {
         "name": "averageTemp",
         "schema": {
          "fields": [
           {
            "metadata": {},
            "name": "city",
            "nullable": true,
            "type": "string"
           },
           {
            "metadata": {},
            "name": "avg_temperature",
            "nullable": true,
            "type": "double"
           }
          ],
          "type": "struct"
         },
         "tableIdentifier": null,
         "typeStr": "org.apache.spark.sql.DataFrame"
        }
       ],
       "metadata": {
        "isDbfsCommandResult": false
       },
       "removedWidgets": [],
       "type": "html"
      }
     },
     "output_type": "display_data"
    }
   ],
   "source": [
    "%scala\n",
    "import org.apache.spark.sql.SparkSession\n",
    "import org.apache.spark.sql.functions._\n",
    "val weatherDataPath = \"/mntt/delta/weather_data\" \n",
    "val rawData = spark.read.format(\"delta\").load(weatherDataPath)\n",
    "rawData.show()\n",
    "val cleanedData = rawData\n",
    "  .select(\n",
    "    col(\"city\"),\n",
    "    col(\"temperature\").cast(\"double\"), \n",
    "    col(\"description\"),\n",
    "    col(\"timestamp\").cast(\"timestamp\")\n",
    "  )\n",
    "  .na.drop()  // Drop rows with any missing values\n",
    "\n",
    "// Calculate the average temperature per city\n",
    "val averageTemp = cleanedData.groupBy(\"city\").agg(avg(\"temperature\").alias(\"avg_temperature\"))\n",
    "\n",
    "// Display the result\n",
    "averageTemp.show()\n"
   ]
  },
  {
   "cell_type": "markdown",
   "metadata": {
    "application/vnd.databricks.v1+cell": {
     "cellMetadata": {
      "byteLimit": 2048000,
      "rowLimit": 10000
     },
     "inputWidgets": {},
     "nuid": "9fef5f70-8597-4f2b-a056-04dc6f821dfa",
     "showTitle": false,
     "tableResultSettingsMap": {},
     "title": ""
    }
   },
   "source": [
    "##Data Visualization"
   ]
  },
  {
   "cell_type": "code",
   "execution_count": 0,
   "metadata": {
    "application/vnd.databricks.v1+cell": {
     "cellMetadata": {
      "byteLimit": 2048000,
      "rowLimit": 10000
     },
     "inputWidgets": {},
     "nuid": "f32e00e6-5db7-4da0-a621-ea542164dfdd",
     "showTitle": false,
     "tableResultSettingsMap": {},
     "title": ""
    }
   },
   "outputs": [
    {
     "output_type": "display_data",
     "data": {
      "image/png": "[encoded data removed]"
     },
     "metadata": {
      "application/vnd.databricks.v1+output": {
       "addedWidgets": {},
       "arguments": {},
       "data": "data:image/png;base64,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\n",
       "datasetInfos": [],
       "metadata": {},
       "removedWidgets": [],
       "type": "image"
      }
     },
     "output_type": "display_data"
    }
   ],
   "source": [
    "import pandas as pd\n",
    "import matplotlib.pyplot as plt\n",
    "\n",
    "df = spark.read.format(\"delta\").load(\"/mntt/delta/weather_data\").toPandas()\n",
    "\n",
    "# Convert temperature from Kelvin to Celsius\n",
    "df['temperature_celsius'] = df['temperature'] - 273.15\n",
    "\n",
    "# Plot temperature trends over time\n",
    "plt.figure(figsize=(12, 6))\n",
    "plt.plot(pd.to_datetime(df['timestamp']), df['temperature_celsius'], marker='o', linestyle='-')\n",
    "plt.title('Temperature Trends Over Time')\n",
    "plt.xlabel('Time')\n",
    "plt.ylabel('Temperature (°C)')\n",
    "plt.grid(True)\n",
    "plt.show()\n"
   ]
  },
  {
   "cell_type": "markdown",
   "metadata": {
    "application/vnd.databricks.v1+cell": {
     "cellMetadata": {
      "byteLimit": 2048000,
      "rowLimit": 10000
     },
     "inputWidgets": {},
     "nuid": "1251d987-f950-4be2-a613-6abc3270674a",
     "showTitle": false,
     "tableResultSettingsMap": {},
     "title": ""
    }
   },
   "source": [
    "##Building Report Using Dashboard"
   ]
  },
  {
   "cell_type": "code",
   "execution_count": 0,
   "metadata": {
    "application/vnd.databricks.v1+cell": {
     "cellMetadata": {
      "byteLimit": 2048000,
      "rowLimit": 10000
     },
     "inputWidgets": {},
     "nuid": "4f3e9d5a-c819-4f62-acf5-0711e7c8d4d6",
     "showTitle": false,
     "tableResultSettingsMap": {},
     "title": ""
    }
   },
   "outputs": [
    {
     "output_type": "display_data",
     "data": {
      "text/html": [
       "<style scoped>\n",
       "  .ansiout {\n",
       "    display: block;\n",
       "    unicode-bidi: embed;\n",
       "    white-space: pre-wrap;\n",
       "    word-wrap: break-word;\n",
       "    word-break: break-all;\n",
       "    font-family: \"Menlo\", \"Monaco\", \"Consolas\", \"Ubuntu Mono\", \"Source Code Pro\", monospace;\n",
       "    font-size: 13px;\n",
       "    color: #555;\n",
       "    margin-left: 4px;\n",
       "    line-height: 19px;\n",
       "  }\n",
       "</style>\n",
       "<div class=\"ansiout\"></div>"
      ]
     },
     "metadata": {
      "application/vnd.databricks.v1+output": {
       "addedWidgets": {},
       "arguments": {},
       "data": "<div class=\"ansiout\"></div>",
       "datasetInfos": [],
       "metadata": {
        "isDbfsCommandResult": false
       },
       "removedWidgets": [],
       "type": "html"
      }
     },
     "output_type": "display_data"
    }
   ],
   "source": [
    "%scala\n",
    "// Create a temporary view from your cleaned DataFrame\n",
    "cleanedData.createOrReplaceTempView(\"weather_data\")"
   ]
  },
  {
   "cell_type": "code",
   "execution_count": 0,
   "metadata": {
    "application/vnd.databricks.v1+cell": {
     "cellMetadata": {
      "byteLimit": 2048000,
      "rowLimit": 10000
     },
     "inputWidgets": {},
     "nuid": "14c37522-bbb5-46f5-a51a-04f4ec3c5b32",
     "showTitle": false,
     "tableResultSettingsMap": {},
     "title": ""
    }
   },
   "outputs": [
    {
     "output_type": "stream",
     "name": "stdout",
     "output_type": "stream",
     "text": [
      "+-----------+----------------+-----------+--------------------+\n|       city|     description|temperature|           timestamp|\n+-----------+----------------+-----------+--------------------+\n|  Bengaluru|scattered clouds|     295.88|2024-11-01T18:16:...|\n| Tamil Nadu| overcast clouds|     301.85|2024-11-03T09:04:...|\n|    Kitturu| overcast clouds|     297.32|2024-11-01T18:15:...|\n|West Bengal|       clear sky|     304.56|2024-11-03T09:17:...|\n|West Bengal|       clear sky|     304.56|2024-11-03T09:16:...|\n|      Kochi| overcast clouds|     299.14|2024-11-01T18:19:...|\n|West Bengal|       clear sky|     304.56|2024-11-03T09:13:...|\n|West Bengal|       clear sky|     304.56|2024-11-03T09:22:...|\n|West Bengal|       clear sky|     304.56|2024-11-03T09:15:...|\n|     Kerala|   broken clouds|     303.97|2024-11-03T09:07:...|\n|  Jharkhand|       clear sky|     302.15|2024-11-03T08:24:...|\n|  Rajasthan|       clear sky|      306.6|2024-11-03T08:31:...|\n|       Pune|   broken clouds|     297.68|2024-11-01T18:20:...|\n|    Haryana|       clear sky|      306.4|2024-11-03T09:02:...|\n|    Gujarat|       clear sky|     305.61|2024-11-03T06:22:...|\n|     Rajkot|       clear sky|     306.66|2024-11-03T06:35:...|\n|     Punjab|       clear sky|     307.94|2024-11-03T07:34:...|\n|     Kanpur|       clear sky|     297.05|2024-11-01T18:21:...|\n| Trivandrum|            mist|     298.14|2024-11-02T17:17:...|\n|  Ahmedabad|           smoke|     299.17|2024-11-01T18:16:...|\n+-----------+----------------+-----------+--------------------+\nonly showing top 20 rows\n\n"
     ]
    }
   ],
   "source": [
    "cleaned_df.show()"
   ]
  },
  {
   "cell_type": "code",
   "execution_count": 0,
   "metadata": {
    "application/vnd.databricks.v1+cell": {
     "cellMetadata": {
      "byteLimit": 2048000,
      "implicitDf": true,
      "rowLimit": 10000
     },
     "inputWidgets": {},
     "nuid": "781cf299-6bd5-4424-9b8c-d23836332b12",
     "showTitle": false,
     "tableResultSettingsMap": {},
     "title": ""
    }
   },
   "outputs": [
    {
     "output_type": "display_data",
     "data": {
      "text/html": [
       "<style scoped>\n",
       "  .table-result-container {\n",
       "    max-height: 300px;\n",
       "    overflow: auto;\n",
       "  }\n",
       "  table, th, td {\n",
       "    border: 1px solid black;\n",
       "    border-collapse: collapse;\n",
       "  }\n",
       "  th, td {\n",
       "    padding: 5px;\n",
       "  }\n",
       "  th {\n",
       "    text-align: left;\n",
       "  }\n",
       "</style><div class='table-result-container'><table class='table-result'><thead style='background-color: white'><tr><th>title</th></tr></thead><tbody><tr><td>Weather Collection Dashboard</td></tr></tbody></table></div>"
      ]
     },
     "metadata": {
      "application/vnd.databricks.v1+output": {
       "addedWidgets": {},
       "aggData": [],
       "aggError": "",
       "aggOverflow": false,
       "aggSchema": [],
       "aggSeriesLimitReached": false,
       "aggType": "",
       "arguments": {},
       "columnCustomDisplayInfos": {},
       "data": [
        [
         "Weather Collection Dashboard"
        ]
       ],
       "datasetInfos": [],
       "dbfsResultPath": null,
       "isJsonSchema": true,
       "metadata": {},
       "overflow": false,
       "plotOptions": {
        "customPlotOptions": {},
        "displayType": "table",
        "pivotAggregation": null,
        "pivotColumns": null,
        "xColumns": null,
        "yColumns": null
       },
       "removedWidgets": [],
       "schema": [
        {
         "metadata": "{}",
         "name": "title",
         "type": "\"string\""
        }
       ],
       "type": "table"
      }
     },
     "output_type": "display_data"
    },
    {
     "output_type": "display_data",
     "data": {
      "text/plain": [
       "Databricks visualization. Run in Databricks to view."
      ]
     },
     "metadata": {
      "application/vnd.databricks.v1.subcommand+json": {
       "baseErrorDetails": null,
       "bindings": {},
       "collapsed": false,
       "command": "%sql\nSELECT 'Weather Collection Dashboard' AS title;",
       "commandTitle": "Title",
       "commandType": "auto",
       "commandVersion": 0,
       "commentThread": [],
       "commentsVisible": false,
       "contentSha256Hex": null,
       "customPlotOptions": {
        "redashChart": [
         {
          "key": "type",
          "value": "COUNTER"
         },
         {
          "key": "options",
          "value": {
           "counterColName": "title",
           "counterLabel": "",
           "rowNumber": 1,
           "stringDecChar": ".",
           "stringDecimal": 0,
           "stringThouSep": ",",
           "targetRowNumber": 1,
           "tooltipFormat": "0,0.000"
          }
         }
        ]
       },
       "datasetPreviewNameToCmdIdMap": {},
       "diffDeletes": [],
       "diffInserts": [],
       "displayType": "redashChart",
       "error": null,
       "errorDetails": null,
       "errorSummary": null,
       "errorTraceType": null,
       "finishTime": 0,
       "globalVars": {},
       "guid": "",
       "height": "auto",
       "hideCommandCode": false,
       "hideCommandResult": false,
       "iPythonMetadata": null,
       "inputWidgets": {},
       "isLockedInExamMode": false,
       "latestUser": "a user",
       "latestUserId": null,
       "listResultMetadata": null,
       "metadata": {
        "byteLimit": 2048000,
        "implicitDf": true,
        "rowLimit": 10000
       },
       "nuid": "5ec80625-9b1d-49d4-87f5-27e24e577ae4",
       "origId": 0,
       "parentHierarchy": [],
       "pivotAggregation": null,
       "pivotColumns": null,
       "position": 9.0625,
       "resultDbfsErrorMessage": null,
       "resultDbfsStatus": "INLINED_IN_TREE",
       "results": null,
       "showCommandTitle": false,
       "startTime": 0,
       "state": "finished",
       "streamStates": {},
       "subcommandOptions": {},
       "submitTime": 0,
       "subtype": "tableResultSubCmd.visualization",
       "tableResultIndex": 0,
       "tableResultSettingsMap": {},
       "useConsistentColors": false,
       "version": "CommandV1",
       "width": "auto",
       "workflows": [],
       "xColumns": null,
       "yColumns": null
      }
     },
     "output_type": "display_data"
    }
   ],
   "source": [
    "%sql\n",
    "SELECT 'Weather Collection Dashboard' AS title;"
   ]
  },
  {
   "cell_type": "code",
   "execution_count": 0,
   "metadata": {
    "application/vnd.databricks.v1+cell": {
     "cellMetadata": {
      "byteLimit": 2048000,
      "implicitDf": true,
      "rowLimit": 10000
     },
     "inputWidgets": {},
     "nuid": "5a626f7f-0228-45b8-a0f5-1bbba20cd64e",
     "showTitle": false,
     "tableResultSettingsMap": {},
     "title": ""
    }
   },
   "outputs": [
    {
     "output_type": "display_data",
     "data": {
      "text/html": [
       "<style scoped>\n",
       "  .table-result-container {\n",
       "    max-height: 300px;\n",
       "    overflow: auto;\n",
       "  }\n",
       "  table, th, td {\n",
       "    border: 1px solid black;\n",
       "    border-collapse: collapse;\n",
       "  }\n",
       "  th, td {\n",
       "    padding: 5px;\n",
       "  }\n",
       "  th {\n",
       "    text-align: left;\n",
       "  }\n",
       "</style><div class='table-result-container'><table class='table-result'><thead style='background-color: white'><tr><th>total_records</th></tr></thead><tbody><tr><td>34</td></tr></tbody></table></div>"
      ]
     },
     "metadata": {
      "application/vnd.databricks.v1+output": {
       "addedWidgets": {},
       "aggData": [],
       "aggError": "",
       "aggOverflow": false,
       "aggSchema": [],
       "aggSeriesLimitReached": false,
       "aggType": "",
       "arguments": {},
       "columnCustomDisplayInfos": {},
       "data": [
        [
         34
        ]
       ],
       "datasetInfos": [],
       "dbfsResultPath": null,
       "isJsonSchema": true,
       "metadata": {},
       "overflow": false,
       "plotOptions": {
        "customPlotOptions": {},
        "displayType": "table",
        "pivotAggregation": null,
        "pivotColumns": null,
        "xColumns": null,
        "yColumns": null
       },
       "removedWidgets": [],
       "schema": [
        {
         "metadata": "{}",
         "name": "total_records",
         "type": "\"long\""
        }
       ],
       "type": "table"
      }
     },
     "output_type": "display_data"
    },
    {
     "output_type": "display_data",
     "data": {
      "text/plain": [
       "Databricks visualization. Run in Databricks to view."
      ]
     },
     "metadata": {
      "application/vnd.databricks.v1.subcommand+json": {
       "baseErrorDetails": null,
       "bindings": {},
       "collapsed": false,
       "command": "%sql\nSELECT COUNT(*) AS total_records FROM weather_data;",
       "commandTitle": "Total_Records",
       "commandType": "auto",
       "commandVersion": 0,
       "commentThread": [],
       "commentsVisible": false,
       "contentSha256Hex": null,
       "customPlotOptions": {
        "redashChart": [
         {
          "key": "type",
          "value": "COUNTER"
         },
         {
          "key": "options",
          "value": {
           "countRow": false,
           "counterColName": "total_records",
           "counterLabel": "Total_Records",
           "formatTargetValue": false,
           "rowNumber": 1,
           "stringDecChar": ".",
           "stringDecimal": 0,
           "stringThouSep": ",",
           "targetRowNumber": 1,
           "tooltipFormat": "0,0.000"
          }
         }
        ]
       },
       "datasetPreviewNameToCmdIdMap": {},
       "diffDeletes": [],
       "diffInserts": [],
       "displayType": "redashChart",
       "error": null,
       "errorDetails": null,
       "errorSummary": null,
       "errorTraceType": null,
       "finishTime": 0,
       "globalVars": {},
       "guid": "",
       "height": "auto",
       "hideCommandCode": false,
       "hideCommandResult": false,
       "iPythonMetadata": null,
       "inputWidgets": {},
       "isLockedInExamMode": false,
       "latestUser": "a user",
       "latestUserId": null,
       "listResultMetadata": null,
       "metadata": {
        "byteLimit": 2048000,
        "implicitDf": true,
        "rowLimit": 10000
       },
       "nuid": "667d3568-09e9-415b-afd7-7b04c0b1985b",
       "origId": 0,
       "parentHierarchy": [],
       "pivotAggregation": null,
       "pivotColumns": null,
       "position": 9.125,
       "resultDbfsErrorMessage": null,
       "resultDbfsStatus": "INLINED_IN_TREE",
       "results": null,
       "showCommandTitle": false,
       "startTime": 0,
       "state": "finished",
       "streamStates": {},
       "subcommandOptions": {},
       "submitTime": 0,
       "subtype": "tableResultSubCmd.visualization",
       "tableResultIndex": 0,
       "tableResultSettingsMap": {},
       "useConsistentColors": false,
       "version": "CommandV1",
       "width": "auto",
       "workflows": [],
       "xColumns": null,
       "yColumns": null
      }
     },
     "output_type": "display_data"
    }
   ],
   "source": [
    "%sql\n",
    "SELECT COUNT(*) AS total_records FROM weather_data;"
   ]
  },
  {
   "cell_type": "code",
   "execution_count": 0,
   "metadata": {
    "application/vnd.databricks.v1+cell": {
     "cellMetadata": {
      "byteLimit": 2048000,
      "implicitDf": true,
      "rowLimit": 10000
     },
     "inputWidgets": {},
     "nuid": "120e1e34-c08f-41d3-b1a6-90acc507b4a0",
     "showTitle": false,
     "tableResultSettingsMap": {},
     "title": ""
    }
   },
   "outputs": [
    {
     "output_type": "display_data",
     "data": {
      "text/html": [
       "<style scoped>\n",
       "  .table-result-container {\n",
       "    max-height: 300px;\n",
       "    overflow: auto;\n",
       "  }\n",
       "  table, th, td {\n",
       "    border: 1px solid black;\n",
       "    border-collapse: collapse;\n",
       "  }\n",
       "  th, td {\n",
       "    padding: 5px;\n",
       "  }\n",
       "  th {\n",
       "    text-align: left;\n",
       "  }\n",
       "</style><div class='table-result-container'><table class='table-result'><thead style='background-color: white'><tr><th>city</th></tr></thead><tbody><tr><td>Bengaluru</td></tr><tr><td>Tamil Nadu</td></tr><tr><td>Kitturu</td></tr><tr><td>West Bengal</td></tr><tr><td>West Bengal</td></tr><tr><td>Kochi</td></tr><tr><td>West Bengal</td></tr><tr><td>West Bengal</td></tr><tr><td>West Bengal</td></tr><tr><td>Kerala</td></tr><tr><td>Jharkhand</td></tr><tr><td>Rajasthan</td></tr><tr><td>Pune</td></tr><tr><td>Haryana</td></tr><tr><td>Gujarat</td></tr><tr><td>Rajkot</td></tr><tr><td>Punjab</td></tr><tr><td>Kanpur</td></tr><tr><td>Trivandrum</td></tr><tr><td>Ahmedabad</td></tr><tr><td>Trivandrum</td></tr><tr><td>Trivandrum</td></tr><tr><td>Assam</td></tr><tr><td>Trivandrum</td></tr><tr><td>Hyderabad</td></tr><tr><td>Agra</td></tr><tr><td>Nagpur</td></tr><tr><td>Chennai</td></tr><tr><td>Kolkata</td></tr><tr><td>Lucknow</td></tr><tr><td>Jaipur</td></tr><tr><td>Mumbai</td></tr><tr><td>Surat</td></tr><tr><td>Patna</td></tr></tbody></table></div>"
      ]
     },
     "metadata": {
      "application/vnd.databricks.v1+output": {
       "addedWidgets": {},
       "aggData": [],
       "aggError": "",
       "aggOverflow": false,
       "aggSchema": [],
       "aggSeriesLimitReached": false,
       "aggType": "",
       "arguments": {},
       "columnCustomDisplayInfos": {},
       "data": [
        [
         "Bengaluru"
        ],
        [
         "Tamil Nadu"
        ],
        [
         "Kitturu"
        ],
        [
         "West Bengal"
        ],
        [
         "West Bengal"
        ],
        [
         "Kochi"
        ],
        [
         "West Bengal"
        ],
        [
         "West Bengal"
        ],
        [
         "West Bengal"
        ],
        [
         "Kerala"
        ],
        [
         "Jharkhand"
        ],
        [
         "Rajasthan"
        ],
        [
         "Pune"
        ],
        [
         "Haryana"
        ],
        [
         "Gujarat"
        ],
        [
         "Rajkot"
        ],
        [
         "Punjab"
        ],
        [
         "Kanpur"
        ],
        [
         "Trivandrum"
        ],
        [
         "Ahmedabad"
        ],
        [
         "Trivandrum"
        ],
        [
         "Trivandrum"
        ],
        [
         "Assam"
        ],
        [
         "Trivandrum"
        ],
        [
         "Hyderabad"
        ],
        [
         "Agra"
        ],
        [
         "Nagpur"
        ],
        [
         "Chennai"
        ],
        [
         "Kolkata"
        ],
        [
         "Lucknow"
        ],
        [
         "Jaipur"
        ],
        [
         "Mumbai"
        ],
        [
         "Surat"
        ],
        [
         "Patna"
        ]
       ],
       "datasetInfos": [],
       "dbfsResultPath": null,
       "isJsonSchema": true,
       "metadata": {},
       "overflow": false,
       "plotOptions": {
        "customPlotOptions": {},
        "displayType": "table",
        "pivotAggregation": null,
        "pivotColumns": null,
        "xColumns": null,
        "yColumns": null
       },
       "removedWidgets": [],
       "schema": [
        {
         "metadata": "{}",
         "name": "city",
         "type": "\"string\""
        }
       ],
       "type": "table"
      }
     },
     "output_type": "display_data"
    },
    {
     "output_type": "display_data",
     "data": {
      "text/plain": [
       "Databricks visualization. Run in Databricks to view."
      ]
     },
     "metadata": {
      "application/vnd.databricks.v1.subcommand+json": {
       "baseErrorDetails": null,
       "bindings": {},
       "collapsed": false,
       "command": "%sql\nSELECT city from weather_data",
       "commandTitle": "Cities",
       "commandType": "auto",
       "commandVersion": 0,
       "commentThread": [],
       "commentsVisible": false,
       "contentSha256Hex": null,
       "customPlotOptions": {
        "redashChart": [
         {
          "key": "type",
          "value": "CHOROPLETH"
         },
         {
          "key": "options",
          "value": {
           "clusteringMode": "e",
           "colors": {
            "background": "#000000",
            "borders": "#ffffff",
            "max": "#002FB4",
            "min": "#799CFF",
            "noValue": "#dddddd"
           },
           "legend": {
            "alignText": "right",
            "position": "bottom-left",
            "visible": true
           },
           "mapType": "countries",
           "noValuePlaceholder": "N/A",
           "popup": {
            "enabled": true,
            "template": "Region: <b>{{ @@name }}</b>\n<br>\nValue: <b>{{ @@value }}</b>"
           },
           "steps": 5,
           "tooltip": {
            "enabled": true,
            "template": "<b>{{ @@name }}</b>: {{ @@value }}"
           },
           "valueFormat": "0,0.00"
          }
         }
        ]
       },
       "datasetPreviewNameToCmdIdMap": {},
       "diffDeletes": [],
       "diffInserts": [],
       "displayType": "redashChart",
       "error": null,
       "errorDetails": null,
       "errorSummary": null,
       "errorTraceType": null,
       "finishTime": 0,
       "globalVars": {},
       "guid": "",
       "height": "auto",
       "hideCommandCode": false,
       "hideCommandResult": false,
       "iPythonMetadata": null,
       "inputWidgets": {},
       "isLockedInExamMode": false,
       "latestUser": "a user",
       "latestUserId": null,
       "listResultMetadata": null,
       "metadata": {
        "byteLimit": 2048000,
        "implicitDf": true,
        "rowLimit": 10000
       },
       "nuid": "e40d7486-a478-4963-9e2a-7fae5cd9bfab",
       "origId": 0,
       "parentHierarchy": [],
       "pivotAggregation": null,
       "pivotColumns": null,
       "position": 9.1875,
       "resultDbfsErrorMessage": null,
       "resultDbfsStatus": "INLINED_IN_TREE",
       "results": null,
       "showCommandTitle": false,
       "startTime": 0,
       "state": "finished",
       "streamStates": {},
       "subcommandOptions": {},
       "submitTime": 0,
       "subtype": "tableResultSubCmd.visualization",
       "tableResultIndex": 0,
       "tableResultSettingsMap": {},
       "useConsistentColors": false,
       "version": "CommandV1",
       "width": "auto",
       "workflows": [],
       "xColumns": null,
       "yColumns": null
      }
     },
     "output_type": "display_data"
    }
   ],
   "source": [
    "%sql\n",
    "SELECT city from weather_data"
   ]
  },
  {
   "cell_type": "code",
   "execution_count": 0,
   "metadata": {
    "application/vnd.databricks.v1+cell": {
     "cellMetadata": {
      "byteLimit": 2048000,
      "implicitDf": true,
      "rowLimit": 10000
     },
     "inputWidgets": {},
     "nuid": "0fc63205-86bd-4c89-b709-299aebbbfe82",
     "showTitle": false,
     "tableResultSettingsMap": {},
     "title": ""
    }
   },
   "outputs": [
    {
     "output_type": "display_data",
     "data": {
      "text/html": [
       "<style scoped>\n",
       "  .table-result-container {\n",
       "    max-height: 300px;\n",
       "    overflow: auto;\n",
       "  }\n",
       "  table, th, td {\n",
       "    border: 1px solid black;\n",
       "    border-collapse: collapse;\n",
       "  }\n",
       "  th, td {\n",
       "    padding: 5px;\n",
       "  }\n",
       "  th {\n",
       "    text-align: left;\n",
       "  }\n",
       "</style><div class='table-result-container'><table class='table-result'><thead style='background-color: white'><tr><th>city</th><th>avg_temperature</th></tr></thead><tbody><tr><td>Punjab</td><td>307.94</td></tr><tr><td>Rajkot</td><td>306.66</td></tr><tr><td>Rajasthan</td><td>306.6</td></tr><tr><td>Haryana</td><td>306.4</td></tr><tr><td>Gujarat</td><td>305.61</td></tr><tr><td>West Bengal</td><td>304.56000000000006</td></tr><tr><td>Kerala</td><td>303.97</td></tr><tr><td>Mumbai</td><td>303.14</td></tr><tr><td>Jharkhand</td><td>302.15</td></tr><tr><td>Tamil Nadu</td><td>301.85</td></tr><tr><td>Chennai</td><td>301.51</td></tr><tr><td>Assam</td><td>301.5</td></tr><tr><td>Patna</td><td>301.11</td></tr><tr><td>Kolkata</td><td>300.12</td></tr><tr><td>Ahmedabad</td><td>299.17</td></tr><tr><td>Kochi</td><td>299.14</td></tr><tr><td>Agra</td><td>299.01</td></tr><tr><td>Trivandrum</td><td>298.64</td></tr><tr><td>Surat</td><td>298.14</td></tr><tr><td>Hyderabad</td><td>297.88</td></tr><tr><td>Jaipur</td><td>297.77</td></tr><tr><td>Pune</td><td>297.68</td></tr><tr><td>Kitturu</td><td>297.32</td></tr><tr><td>Nagpur</td><td>297.16</td></tr><tr><td>Kanpur</td><td>297.05</td></tr><tr><td>Bengaluru</td><td>295.88</td></tr><tr><td>Lucknow</td><td>294.14</td></tr></tbody></table></div>"
      ]
     },
     "metadata": {
      "application/vnd.databricks.v1+output": {
       "addedWidgets": {},
       "aggData": [],
       "aggError": "",
       "aggOverflow": false,
       "aggSchema": [],
       "aggSeriesLimitReached": false,
       "aggType": "",
       "arguments": {},
       "columnCustomDisplayInfos": {},
       "data": [
        [
         "Punjab",
         307.94
        ],
        [
         "Rajkot",
         306.66
        ],
        [
         "Rajasthan",
         306.6
        ],
        [
         "Haryana",
         306.4
        ],
        [
         "Gujarat",
         305.61
        ],
        [
         "West Bengal",
         304.56000000000006
        ],
        [
         "Kerala",
         303.97
        ],
        [
         "Mumbai",
         303.14
        ],
        [
         "Jharkhand",
         302.15
        ],
        [
         "Tamil Nadu",
         301.85
        ],
        [
         "Chennai",
         301.51
        ],
        [
         "Assam",
         301.5
        ],
        [
         "Patna",
         301.11
        ],
        [
         "Kolkata",
         300.12
        ],
        [
         "Ahmedabad",
         299.17
        ],
        [
         "Kochi",
         299.14
        ],
        [
         "Agra",
         299.01
        ],
        [
         "Trivandrum",
         298.64
        ],
        [
         "Surat",
         298.14
        ],
        [
         "Hyderabad",
         297.88
        ],
        [
         "Jaipur",
         297.77
        ],
        [
         "Pune",
         297.68
        ],
        [
         "Kitturu",
         297.32
        ],
        [
         "Nagpur",
         297.16
        ],
        [
         "Kanpur",
         297.05
        ],
        [
         "Bengaluru",
         295.88
        ],
        [
         "Lucknow",
         294.14
        ]
       ],
       "datasetInfos": [],
       "dbfsResultPath": null,
       "isJsonSchema": true,
       "metadata": {},
       "overflow": false,
       "plotOptions": {
        "customPlotOptions": {},
        "displayType": "table",
        "pivotAggregation": null,
        "pivotColumns": null,
        "xColumns": null,
        "yColumns": null
       },
       "removedWidgets": [],
       "schema": [
        {
         "metadata": "{}",
         "name": "city",
         "type": "\"string\""
        },
        {
         "metadata": "{}",
         "name": "avg_temperature",
         "type": "\"double\""
        }
       ],
       "type": "table"
      }
     },
     "output_type": "display_data"
    },
    {
     "output_type": "display_data",
     "data": {
      "text/plain": [
       "Databricks visualization. Run in Databricks to view."
      ]
     },
     "metadata": {
      "application/vnd.databricks.v1.subcommand+json": {
       "baseErrorDetails": null,
       "bindings": {},
       "collapsed": false,
       "command": "%sql WITH q AS (SELECT city, AVG(temperature) AS avg_temperature\nFROM weather_data\nGROUP BY city\nORDER BY avg_temperature DESC) SELECT `city`,SUM(`avg_temperature`) `column_491c13de24` FROM q GROUP BY `city`",
       "commandTitle": "City and Avg_temperature",
       "commandType": "auto",
       "commandVersion": 0,
       "commentThread": [],
       "commentsVisible": false,
       "contentSha256Hex": null,
       "customPlotOptions": {
        "redashChart": [
         {
          "key": "type",
          "value": "CHART"
         },
         {
          "key": "options",
          "value": {
           "alignYAxesAtZero": true,
           "coefficient": 1,
           "columnConfigurationMap": {
            "x": {
             "column": "city",
             "id": "column_491c13de23"
            },
            "y": [
             {
              "column": "avg_temperature",
              "id": "column_491c13de24",
              "transform": "SUM"
             }
            ]
           },
           "dateTimeFormat": "DD/MM/YYYY HH:mm",
           "direction": {
            "type": "counterclockwise"
           },
           "error_y": {
            "type": "data",
            "visible": true
           },
           "globalSeriesType": "line",
           "isAggregationOn": true,
           "legend": {
            "traceorder": "normal"
           },
           "missingValuesAsZero": true,
           "numberFormat": "0,0.[00000]",
           "percentFormat": "0[.]00%",
           "series": {
            "error_y": {
             "type": "data",
             "visible": true
            },
            "stacking": null
           },
           "seriesOptions": {
            "avg_temperature": {
             "name": "avg_temperature",
             "type": "line",
             "yAxis": 0
            },
            "column_491c13de24": {
             "name": "avg_temperature",
             "type": "line",
             "yAxis": 1
            }
           },
           "showDataLabels": false,
           "sizemode": "diameter",
           "sortX": true,
           "sortY": true,
           "swappedAxes": false,
           "textFormat": "",
           "useAggregationsUi": true,
           "valuesOptions": {},
           "version": 2,
           "xAxis": {
            "labels": {
             "enabled": true
            },
            "type": "-"
           },
           "yAxis": [
            {
             "type": "-"
            },
            {
             "opposite": true,
             "type": "-"
            }
           ]
          }
         }
        ]
       },
       "datasetPreviewNameToCmdIdMap": {},
       "diffDeletes": [],
       "diffInserts": [],
       "displayType": "redashChart",
       "error": null,
       "errorDetails": null,
       "errorSummary": null,
       "errorTraceType": null,
       "finishTime": 0,
       "globalVars": {},
       "guid": "",
       "height": "auto",
       "hideCommandCode": false,
       "hideCommandResult": false,
       "iPythonMetadata": null,
       "inputWidgets": {},
       "isLockedInExamMode": false,
       "latestUser": "a user",
       "latestUserId": null,
       "listResultMetadata": null,
       "metadata": {
        "byteLimit": 2048000,
        "implicitDf": true,
        "rowLimit": 10000
       },
       "nuid": "a54e4330-2298-4141-a8dc-04c47d360cb0",
       "origId": 0,
       "parentHierarchy": [],
       "pivotAggregation": null,
       "pivotColumns": null,
       "position": 9.28125,
       "resultDbfsErrorMessage": null,
       "resultDbfsStatus": "INLINED_IN_TREE",
       "results": null,
       "showCommandTitle": false,
       "startTime": 0,
       "state": "finished",
       "streamStates": {},
       "subcommandOptions": {
        "queryPlan": {
         "groups": [
          {
           "column": "city",
           "type": "column"
          }
         ],
         "selects": [
          {
           "column": "city",
           "type": "column"
          },
          {
           "alias": "column_491c13de24",
           "args": [
            {
             "column": "avg_temperature",
             "type": "column"
            }
           ],
           "function": "SUM",
           "type": "function"
          }
         ]
        }
       },
       "submitTime": 0,
       "subtype": "tableResultSubCmd.visualization",
       "tableResultIndex": 0,
       "tableResultSettingsMap": {},
       "useConsistentColors": false,
       "version": "CommandV1",
       "width": "auto",
       "workflows": [],
       "xColumns": null,
       "yColumns": null
      }
     },
     "output_type": "display_data"
    }
   ],
   "source": [
    "%sql\n",
    "SELECT city, AVG(temperature) AS avg_temperature\n",
    "FROM weather_data\n",
    "GROUP BY city\n",
    "ORDER BY avg_temperature DESC\n"
   ]
  },
  {
   "cell_type": "code",
   "execution_count": 0,
   "metadata": {
    "application/vnd.databricks.v1+cell": {
     "cellMetadata": {
      "byteLimit": 2048000,
      "implicitDf": true,
      "rowLimit": 10000
     },
     "inputWidgets": {},
     "nuid": "a56fac66-de05-4732-86f6-f75f955a59e3",
     "showTitle": false,
     "tableResultSettingsMap": {},
     "title": ""
    }
   },
   "outputs": [
    {
     "output_type": "display_data",
     "data": {
      "text/html": [
       "<style scoped>\n",
       "  .table-result-container {\n",
       "    max-height: 300px;\n",
       "    overflow: auto;\n",
       "  }\n",
       "  table, th, td {\n",
       "    border: 1px solid black;\n",
       "    border-collapse: collapse;\n",
       "  }\n",
       "  th, td {\n",
       "    padding: 5px;\n",
       "  }\n",
       "  th {\n",
       "    text-align: left;\n",
       "  }\n",
       "</style><div class='table-result-container'><table class='table-result'><thead style='background-color: white'><tr><th>temperature</th></tr></thead><tbody><tr><td>295.88</td></tr><tr><td>301.85</td></tr><tr><td>297.32</td></tr><tr><td>304.56</td></tr><tr><td>304.56</td></tr><tr><td>299.14</td></tr><tr><td>304.56</td></tr><tr><td>304.56</td></tr><tr><td>304.56</td></tr><tr><td>303.97</td></tr><tr><td>302.15</td></tr><tr><td>306.6</td></tr><tr><td>297.68</td></tr><tr><td>306.4</td></tr><tr><td>305.61</td></tr><tr><td>306.66</td></tr><tr><td>307.94</td></tr><tr><td>297.05</td></tr><tr><td>298.14</td></tr><tr><td>299.17</td></tr><tr><td>298.14</td></tr><tr><td>300.14</td></tr><tr><td>301.5</td></tr><tr><td>298.14</td></tr><tr><td>297.88</td></tr><tr><td>299.01</td></tr><tr><td>297.16</td></tr><tr><td>301.51</td></tr><tr><td>300.12</td></tr><tr><td>294.14</td></tr><tr><td>297.77</td></tr><tr><td>303.14</td></tr><tr><td>298.14</td></tr><tr><td>301.11</td></tr></tbody></table></div>"
      ]
     },
     "metadata": {
      "application/vnd.databricks.v1+output": {
       "addedWidgets": {},
       "aggData": [],
       "aggError": "",
       "aggOverflow": false,
       "aggSchema": [],
       "aggSeriesLimitReached": false,
       "aggType": "",
       "arguments": {},
       "columnCustomDisplayInfos": {},
       "data": [
        [
         295.88
        ],
        [
         301.85
        ],
        [
         297.32
        ],
        [
         304.56
        ],
        [
         304.56
        ],
        [
         299.14
        ],
        [
         304.56
        ],
        [
         304.56
        ],
        [
         304.56
        ],
        [
         303.97
        ],
        [
         302.15
        ],
        [
         306.6
        ],
        [
         297.68
        ],
        [
         306.4
        ],
        [
         305.61
        ],
        [
         306.66
        ],
        [
         307.94
        ],
        [
         297.05
        ],
        [
         298.14
        ],
        [
         299.17
        ],
        [
         298.14
        ],
        [
         300.14
        ],
        [
         301.5
        ],
        [
         298.14
        ],
        [
         297.88
        ],
        [
         299.01
        ],
        [
         297.16
        ],
        [
         301.51
        ],
        [
         300.12
        ],
        [
         294.14
        ],
        [
         297.77
        ],
        [
         303.14
        ],
        [
         298.14
        ],
        [
         301.11
        ]
       ],
       "datasetInfos": [],
       "dbfsResultPath": null,
       "isJsonSchema": true,
       "metadata": {},
       "overflow": false,
       "plotOptions": {
        "customPlotOptions": {},
        "displayType": "table",
        "pivotAggregation": null,
        "pivotColumns": null,
        "xColumns": null,
        "yColumns": null
       },
       "removedWidgets": [],
       "schema": [
        {
         "metadata": "{}",
         "name": "temperature",
         "type": "\"double\""
        }
       ],
       "type": "table"
      }
     },
     "output_type": "display_data"
    },
    {
     "output_type": "display_data",
     "data": {
      "text/plain": [
       "Databricks visualization. Run in Databricks to view."
      ]
     },
     "metadata": {
      "application/vnd.databricks.v1.subcommand+json": {
       "baseErrorDetails": null,
       "bindings": {},
       "collapsed": false,
       "command": "%sql WITH q AS (SELECT temperature\nFROM weather_data) ,min_max AS (SELECT `temperature`,(SELECT MAX(`temperature`) FROM q) `target_column_max`,(SELECT MIN(`temperature`) FROM q) `target_column_min` FROM q) ,histogram_meta AS (SELECT `temperature`,`target_column_min` `min_value`,IF(`target_column_max` = `target_column_min`,`target_column_max` + 1,`target_column_max`) `max_value`,(`target_column_max` - `target_column_min`) / 10 `step` FROM min_max) SELECT IF(ISNULL(`temperature`),NULL,LEAST(WIDTH_BUCKET(`temperature`,`min_value`,`max_value`,10),10)) `temperature_BIN`,FIRST(`min_value` + ((IF(ISNULL(`temperature`),NULL,LEAST(WIDTH_BUCKET(`temperature`,`min_value`,`max_value`,10),10)) - 1) * `step`)) `temperature_BIN_LOWER_BOUND`,FIRST(`step`) `temperature_BIN_STEP`,COUNT(`temperature`) `COUNT` FROM histogram_meta GROUP BY `temperature_BIN`",
       "commandTitle": "Temperature",
       "commandType": "auto",
       "commandVersion": 0,
       "commentThread": [],
       "commentsVisible": false,
       "contentSha256Hex": null,
       "customPlotOptions": {
        "redashChart": [
         {
          "key": "type",
          "value": "CHART"
         },
         {
          "key": "options",
          "value": {
           "alignYAxesAtZero": true,
           "coefficient": 1,
           "columnConfigurationMap": {
            "x": {
             "column": "temperature",
             "id": "column_2a89631418"
            }
           },
           "dateTimeFormat": "DD/MM/YYYY HH:mm",
           "direction": {
            "type": "counterclockwise"
           },
           "error_y": {
            "type": "data",
            "visible": true
           },
           "globalSeriesType": "histogram",
           "hideXAxis": false,
           "isAggregationOn": true,
           "legend": {
            "traceorder": "normal"
           },
           "missingValuesAsZero": true,
           "numBins": 10,
           "numberFormat": "0,0.[00000]",
           "percentFormat": "0[.]00%",
           "series": {
            "error_y": {
             "type": "data",
             "visible": true
            },
            "stacking": null
           },
           "seriesOptions": {},
           "showDataLabels": false,
           "sizemode": "diameter",
           "sortX": true,
           "sortY": true,
           "swappedAxes": false,
           "textFormat": "",
           "useAggregationsUi": true,
           "valuesOptions": {},
           "version": 2,
           "xAxis": {
            "labels": {
             "enabled": true
            },
            "type": "-"
           },
           "yAxis": [
            {
             "type": "-"
            },
            {
             "opposite": true,
             "type": "-"
            }
           ]
          }
         }
        ]
       },
       "datasetPreviewNameToCmdIdMap": {},
       "diffDeletes": [],
       "diffInserts": [],
       "displayType": "redashChart",
       "error": null,
       "errorDetails": null,
       "errorSummary": null,
       "errorTraceType": null,
       "finishTime": 0,
       "globalVars": {},
       "guid": "",
       "height": "auto",
       "hideCommandCode": false,
       "hideCommandResult": false,
       "iPythonMetadata": null,
       "inputWidgets": {},
       "isLockedInExamMode": false,
       "latestUser": "a user",
       "latestUserId": null,
       "listResultMetadata": null,
       "metadata": {
        "byteLimit": 2048000,
        "implicitDf": true,
        "rowLimit": 10000
       },
       "nuid": "a18559bc-e0bc-4f2b-8fdf-391e864a5720",
       "origId": 0,
       "parentHierarchy": [],
       "pivotAggregation": null,
       "pivotColumns": null,
       "position": 9.375,
       "resultDbfsErrorMessage": null,
       "resultDbfsStatus": "INLINED_IN_TREE",
       "results": null,
       "showCommandTitle": false,
       "startTime": 0,
       "state": "finished",
       "streamStates": {},
       "subcommandOptions": {
        "queryPlan": {
         "groups": [
          {
           "column": "temperature_BIN",
           "type": "column"
          }
         ],
         "selects": [
          {
           "alias": "temperature_BIN",
           "args": [
            {
             "column": "temperature",
             "type": "column"
            },
            {
             "number": 10,
             "type": "number"
            }
           ],
           "function": "BIN",
           "type": "function"
          },
          {
           "alias": "temperature_BIN_LOWER_BOUND",
           "args": [
            {
             "column": "temperature",
             "type": "column"
            },
            {
             "number": 10,
             "type": "number"
            }
           ],
           "function": "BIN_LOWER_BOUND",
           "type": "function"
          },
          {
           "alias": "temperature_BIN_STEP",
           "args": [
            {
             "column": "temperature",
             "type": "column"
            },
            {
             "number": 10,
             "type": "number"
            }
           ],
           "function": "BIN_STEP",
           "type": "function"
          },
          {
           "alias": "COUNT",
           "args": [
            {
             "column": "temperature",
             "type": "column"
            }
           ],
           "function": "COUNT",
           "type": "function"
          }
         ]
        }
       },
       "submitTime": 0,
       "subtype": "tableResultSubCmd.visualization",
       "tableResultIndex": 0,
       "tableResultSettingsMap": {},
       "useConsistentColors": false,
       "version": "CommandV1",
       "width": "auto",
       "workflows": [],
       "xColumns": null,
       "yColumns": null
      }
     },
     "output_type": "display_data"
    }
   ],
   "source": [
    "%sql\n",
    "SELECT temperature\n",
    "FROM weather_data\n"
   ]
  },
  {
   "cell_type": "code",
   "execution_count": 0,
   "metadata": {
    "application/vnd.databricks.v1+cell": {
     "cellMetadata": {
      "byteLimit": 2048000,
      "implicitDf": true,
      "rowLimit": 10000
     },
     "inputWidgets": {},
     "nuid": "43eb1f46-f691-4a68-aa75-d872aa946bce",
     "showTitle": false,
     "tableResultSettingsMap": {},
     "title": ""
    }
   },
   "outputs": [
    {
     "output_type": "display_data",
     "data": {
      "text/html": [
       "<style scoped>\n",
       "  .table-result-container {\n",
       "    max-height: 300px;\n",
       "    overflow: auto;\n",
       "  }\n",
       "  table, th, td {\n",
       "    border: 1px solid black;\n",
       "    border-collapse: collapse;\n",
       "  }\n",
       "  th, td {\n",
       "    padding: 5px;\n",
       "  }\n",
       "  th {\n",
       "    text-align: left;\n",
       "  }\n",
       "</style><div class='table-result-container'><table class='table-result'><thead style='background-color: white'><tr><th>city</th><th>description</th><th>temperature</th><th>timestamp</th></tr></thead><tbody><tr><td>Agra</td><td>clear sky</td><td>299.01</td><td>2024-11-01T18:20:55.270+0000</td></tr><tr><td>Ahmedabad</td><td>smoke</td><td>299.17</td><td>2024-11-01T18:16:42.640+0000</td></tr><tr><td>Assam</td><td>clear sky</td><td>301.5</td><td>2024-11-03T08:57:52.185+0000</td></tr><tr><td>Bengaluru</td><td>scattered clouds</td><td>295.88</td><td>2024-11-01T18:16:23.582+0000</td></tr><tr><td>Chennai</td><td>mist</td><td>301.51</td><td>2024-11-01T18:17:55.142+0000</td></tr><tr><td>Gujarat</td><td>clear sky</td><td>305.61</td><td>2024-11-03T06:22:41.183+0000</td></tr><tr><td>Haryana</td><td>clear sky</td><td>306.4</td><td>2024-11-03T09:02:57.947+0000</td></tr><tr><td>Hyderabad</td><td>haze</td><td>297.88</td><td>2024-11-01T18:18:16.001+0000</td></tr><tr><td>Jaipur</td><td>haze</td><td>297.77</td><td>2024-11-01T18:18:45.137+0000</td></tr><tr><td>Jharkhand</td><td>clear sky</td><td>302.15</td><td>2024-11-03T08:24:19.350+0000</td></tr><tr><td>Kanpur</td><td>clear sky</td><td>297.05</td><td>2024-11-01T18:21:32.477+0000</td></tr><tr><td>Kerala</td><td>broken clouds</td><td>303.97</td><td>2024-11-03T09:07:03.749+0000</td></tr><tr><td>Kitturu</td><td>overcast clouds</td><td>297.32</td><td>2024-11-01T18:15:09.357+0000</td></tr><tr><td>Kochi</td><td>overcast clouds</td><td>299.14</td><td>2024-11-01T18:19:17.278+0000</td></tr><tr><td>Kolkata</td><td>haze</td><td>300.12</td><td>2024-11-01T18:22:21.588+0000</td></tr><tr><td>Lucknow</td><td>mist</td><td>294.14</td><td>2024-11-01T18:17:12.520+0000</td></tr><tr><td>Mumbai</td><td>haze</td><td>303.14</td><td>2024-11-01T18:17:35.232+0000</td></tr><tr><td>Nagpur</td><td>smoke</td><td>297.16</td><td>2024-11-01T18:19:47.266+0000</td></tr><tr><td>Patna</td><td>mist</td><td>301.11</td><td>2024-11-01T18:22:51.454+0000</td></tr><tr><td>Pune</td><td>broken clouds</td><td>297.68</td><td>2024-11-01T18:20:16.217+0000</td></tr><tr><td>Punjab</td><td>clear sky</td><td>307.94</td><td>2024-11-03T07:34:34.923+0000</td></tr><tr><td>Rajasthan</td><td>clear sky</td><td>306.6</td><td>2024-11-03T08:31:14.460+0000</td></tr><tr><td>Rajkot</td><td>clear sky</td><td>306.66</td><td>2024-11-03T06:35:46.597+0000</td></tr><tr><td>Surat</td><td>mist</td><td>298.14</td><td>2024-11-01T18:23:25.249+0000</td></tr><tr><td>Tamil Nadu</td><td>overcast clouds</td><td>301.85</td><td>2024-11-03T09:04:41.920+0000</td></tr><tr><td>Trivandrum</td><td>mist</td><td>298.14</td><td>2024-11-02T17:17:29.315+0000</td></tr><tr><td>Trivandrum</td><td>mist</td><td>298.14</td><td>2024-11-02T17:16:39.236+0000</td></tr><tr><td>Trivandrum</td><td>mist</td><td>298.14</td><td>2024-11-02T16:11:44.646+0000</td></tr><tr><td>Trivandrum</td><td>mist</td><td>300.14</td><td>2024-11-01T18:24:06.210+0000</td></tr><tr><td>West Bengal</td><td>clear sky</td><td>304.56</td><td>2024-11-03T09:22:45.374+0000</td></tr><tr><td>West Bengal</td><td>clear sky</td><td>304.56</td><td>2024-11-03T09:17:09.573+0000</td></tr><tr><td>West Bengal</td><td>clear sky</td><td>304.56</td><td>2024-11-03T09:16:16.985+0000</td></tr><tr><td>West Bengal</td><td>clear sky</td><td>304.56</td><td>2024-11-03T09:15:01.048+0000</td></tr><tr><td>West Bengal</td><td>clear sky</td><td>304.56</td><td>2024-11-03T09:13:34.014+0000</td></tr></tbody></table></div>"
      ]
     },
     "metadata": {
      "application/vnd.databricks.v1+output": {
       "addedWidgets": {},
       "aggData": [],
       "aggError": "",
       "aggOverflow": false,
       "aggSchema": [],
       "aggSeriesLimitReached": false,
       "aggType": "",
       "arguments": {},
       "columnCustomDisplayInfos": {},
       "data": [
        [
         "Agra",
         "clear sky",
         299.01,
         "2024-11-01T18:20:55.270+0000"
        ],
        [
         "Ahmedabad",
         "smoke",
         299.17,
         "2024-11-01T18:16:42.640+0000"
        ],
        [
         "Assam",
         "clear sky",
         301.5,
         "2024-11-03T08:57:52.185+0000"
        ],
        [
         "Bengaluru",
         "scattered clouds",
         295.88,
         "2024-11-01T18:16:23.582+0000"
        ],
        [
         "Chennai",
         "mist",
         301.51,
         "2024-11-01T18:17:55.142+0000"
        ],
        [
         "Gujarat",
         "clear sky",
         305.61,
         "2024-11-03T06:22:41.183+0000"
        ],
        [
         "Haryana",
         "clear sky",
         306.4,
         "2024-11-03T09:02:57.947+0000"
        ],
        [
         "Hyderabad",
         "haze",
         297.88,
         "2024-11-01T18:18:16.001+0000"
        ],
        [
         "Jaipur",
         "haze",
         297.77,
         "2024-11-01T18:18:45.137+0000"
        ],
        [
         "Jharkhand",
         "clear sky",
         302.15,
         "2024-11-03T08:24:19.350+0000"
        ],
        [
         "Kanpur",
         "clear sky",
         297.05,
         "2024-11-01T18:21:32.477+0000"
        ],
        [
         "Kerala",
         "broken clouds",
         303.97,
         "2024-11-03T09:07:03.749+0000"
        ],
        [
         "Kitturu",
         "overcast clouds",
         297.32,
         "2024-11-01T18:15:09.357+0000"
        ],
        [
         "Kochi",
         "overcast clouds",
         299.14,
         "2024-11-01T18:19:17.278+0000"
        ],
        [
         "Kolkata",
         "haze",
         300.12,
         "2024-11-01T18:22:21.588+0000"
        ],
        [
         "Lucknow",
         "mist",
         294.14,
         "2024-11-01T18:17:12.520+0000"
        ],
        [
         "Mumbai",
         "haze",
         303.14,
         "2024-11-01T18:17:35.232+0000"
        ],
        [
         "Nagpur",
         "smoke",
         297.16,
         "2024-11-01T18:19:47.266+0000"
        ],
        [
         "Patna",
         "mist",
         301.11,
         "2024-11-01T18:22:51.454+0000"
        ],
        [
         "Pune",
         "broken clouds",
         297.68,
         "2024-11-01T18:20:16.217+0000"
        ],
        [
         "Punjab",
         "clear sky",
         307.94,
         "2024-11-03T07:34:34.923+0000"
        ],
        [
         "Rajasthan",
         "clear sky",
         306.6,
         "2024-11-03T08:31:14.460+0000"
        ],
        [
         "Rajkot",
         "clear sky",
         306.66,
         "2024-11-03T06:35:46.597+0000"
        ],
        [
         "Surat",
         "mist",
         298.14,
         "2024-11-01T18:23:25.249+0000"
        ],
        [
         "Tamil Nadu",
         "overcast clouds",
         301.85,
         "2024-11-03T09:04:41.920+0000"
        ],
        [
         "Trivandrum",
         "mist",
         298.14,
         "2024-11-02T17:17:29.315+0000"
        ],
        [
         "Trivandrum",
         "mist",
         298.14,
         "2024-11-02T17:16:39.236+0000"
        ],
        [
         "Trivandrum",
         "mist",
         298.14,
         "2024-11-02T16:11:44.646+0000"
        ],
        [
         "Trivandrum",
         "mist",
         300.14,
         "2024-11-01T18:24:06.210+0000"
        ],
        [
         "West Bengal",
         "clear sky",
         304.56,
         "2024-11-03T09:22:45.374+0000"
        ],
        [
         "West Bengal",
         "clear sky",
         304.56,
         "2024-11-03T09:17:09.573+0000"
        ],
        [
         "West Bengal",
         "clear sky",
         304.56,
         "2024-11-03T09:16:16.985+0000"
        ],
        [
         "West Bengal",
         "clear sky",
         304.56,
         "2024-11-03T09:15:01.048+0000"
        ],
        [
         "West Bengal",
         "clear sky",
         304.56,
         "2024-11-03T09:13:34.014+0000"
        ]
       ],
       "datasetInfos": [],
       "dbfsResultPath": null,
       "isJsonSchema": true,
       "metadata": {},
       "overflow": false,
       "plotOptions": {
        "customPlotOptions": {},
        "displayType": "table",
        "pivotAggregation": null,
        "pivotColumns": null,
        "xColumns": null,
        "yColumns": null
       },
       "removedWidgets": [],
       "schema": [
        {
         "metadata": "{}",
         "name": "city",
         "type": "\"string\""
        },
        {
         "metadata": "{}",
         "name": "description",
         "type": "\"string\""
        },
        {
         "metadata": "{}",
         "name": "temperature",
         "type": "\"double\""
        },
        {
         "metadata": "{}",
         "name": "timestamp",
         "type": "\"timestamp\""
        }
       ],
       "type": "table"
      }
     },
     "output_type": "display_data"
    },
    {
     "output_type": "display_data",
     "data": {
      "text/plain": [
       "Databricks visualization. Run in Databricks to view."
      ]
     },
     "metadata": {
      "application/vnd.databricks.v1.subcommand+json": {
       "baseErrorDetails": null,
       "bindings": {},
       "collapsed": false,
       "command": "%sql\nSELECT city, description, temperature, timestamp\nFROM weather_data\nORDER BY city, timestamp DESC;\n",
       "commandTitle": "Detailed View",
       "commandType": "auto",
       "commandVersion": 0,
       "commentThread": [],
       "commentsVisible": false,
       "contentSha256Hex": null,
       "customPlotOptions": {
        "redashChart": [
         {
          "key": "type",
          "value": "DETAILS"
         },
         {
          "key": "options",
          "value": {
           "columns": [
            {
             "name": "city",
             "title": "city",
             "type": "string"
            },
            {
             "name": "description",
             "title": "description",
             "type": "string"
            },
            {
             "name": "temperature",
             "title": "temperature",
             "type": "float"
            },
            {
             "name": "timestamp",
             "title": "timestamp",
             "type": "datetime"
            }
           ],
           "version": 1
          }
         }
        ]
       },
       "datasetPreviewNameToCmdIdMap": {},
       "diffDeletes": [],
       "diffInserts": [],
       "displayType": "redashChart",
       "error": null,
       "errorDetails": null,
       "errorSummary": null,
       "errorTraceType": null,
       "finishTime": 0,
       "globalVars": {},
       "guid": "",
       "height": "auto",
       "hideCommandCode": false,
       "hideCommandResult": false,
       "iPythonMetadata": null,
       "inputWidgets": {},
       "isLockedInExamMode": false,
       "latestUser": "a user",
       "latestUserId": null,
       "listResultMetadata": null,
       "metadata": {
        "byteLimit": 2048000,
        "implicitDf": true,
        "rowLimit": 10000
       },
       "nuid": "e6aa1fb4-39cf-4ed3-a94d-7461b834fdcf",
       "origId": 0,
       "parentHierarchy": [],
       "pivotAggregation": null,
       "pivotColumns": null,
       "position": 9.46875,
       "resultDbfsErrorMessage": null,
       "resultDbfsStatus": "INLINED_IN_TREE",
       "results": null,
       "showCommandTitle": false,
       "startTime": 0,
       "state": "finished",
       "streamStates": {},
       "subcommandOptions": {},
       "submitTime": 0,
       "subtype": "tableResultSubCmd.visualization",
       "tableResultIndex": 0,
       "tableResultSettingsMap": {},
       "useConsistentColors": false,
       "version": "CommandV1",
       "width": "auto",
       "workflows": [],
       "xColumns": null,
       "yColumns": null
      }
     },
     "output_type": "display_data"
    }
   ],
   "source": [
    "%sql\n",
    "SELECT city, description, temperature, timestamp\n",
    "FROM weather_data\n",
    "ORDER BY city, timestamp DESC;\n"
   ]
  },
  {
   "cell_type": "markdown",
   "metadata": {
    "application/vnd.databricks.v1+cell": {
     "cellMetadata": {
      "byteLimit": 2048000,
      "rowLimit": 10000
     },
     "inputWidgets": {},
     "nuid": "e4ea4cf7-4817-4b42-8bc8-a68677ccf66b",
     "showTitle": false,
     "tableResultSettingsMap": {},
     "title": ""
    }
   },
   "source": [
    "##Monitor Data Pipeline"
   ]
  },
  {
   "cell_type": "code",
   "execution_count": 0,
   "metadata": {
    "application/vnd.databricks.v1+cell": {
     "cellMetadata": {
      "byteLimit": 2048000,
      "rowLimit": 10000
     },
     "inputWidgets": {},
     "nuid": "16300807-fa51-45ca-aba3-fe82de927a69",
     "showTitle": false,
     "tableResultSettingsMap": {},
     "title": ""
    }
   },
   "outputs": [],
   "source": [
    "import logging\n",
    "logging.basicConfig(level=logging.INFO, format='%(asctime)s - %(levelname)s - %(message)s')"
   ]
  },
  {
   "cell_type": "code",
   "execution_count": 0,
   "metadata": {
    "application/vnd.databricks.v1+cell": {
     "cellMetadata": {
      "byteLimit": 2048000,
      "rowLimit": 10000
     },
     "inputWidgets": {},
     "nuid": "ca3495e0-f8e7-4dc3-8ddf-e34f14824659",
     "showTitle": false,
     "tableResultSettingsMap": {},
     "title": ""
    }
   },
   "outputs": [],
   "source": [
    "def monitor_delta_table():\n",
    "    try:\n",
    "        # Track the current record count in Delta table\n",
    "        logging.info(\"Fetching Delta table record count...\")\n",
    "        record_count = spark.read.format(\"delta\").load(\"/mntt/delta/weather_data\").count()\n",
    "        logging.info(f\"Current record count in Delta table: {record_count}\")\n",
    "        \n",
    "        # Track the schema of the Delta table\n",
    "        logging.info(\"Fetching Delta table schema...\")\n",
    "        schema = spark.read.format(\"delta\").load(\"/mntt/delta/weather_data\").schema\n",
    "        logging.info(f\"Delta table schema: {schema}\")\n",
    "\n",
    "    except Exception as e:\n",
    "        logging.error(f\"Error occurred while monitoring Delta table: {str(e)}\")\n",
    "\n",
    "# Run the monitor function\n",
    "monitor_delta_table()\n"
   ]
  },
  {
   "cell_type": "code",
   "execution_count": 0,
   "metadata": {
    "application/vnd.databricks.v1+cell": {
     "cellMetadata": {
      "byteLimit": 2048000,
      "rowLimit": 10000
     },
     "inputWidgets": {},
     "nuid": "e39f8419-3da1-4e48-9231-b2d16507fcc0",
     "showTitle": false,
     "tableResultSettingsMap": {},
     "title": ""
    }
   },
   "outputs": [
    {
     "output_type": "stream",
     "name": "stderr",
     "output_type": "stream",
     "text": [
      "WARNING:root:Alert: Record count is below the expected threshold.\n"
     ]
    }
   ],
   "source": [
    "def monitor_delta_table_with_alerts():\n",
    "    try:\n",
    "        # Track record count\n",
    "        record_count = spark.read.format(\"delta\").load(\"/mntt/delta/weather_data\").count()\n",
    "        logging.info(f\"Record count: {record_count}\")\n",
    "        \n",
    "        # Track schema\n",
    "        schema = spark.read.format(\"delta\").load(\"/mntt/delta/weather_data\").schema\n",
    "        logging.info(f\"Schema: {schema}\")\n",
    "\n",
    "        if record_count < 1000:\n",
    "            logging.warning(\"Alert: Record count is below the expected threshold.\")\n",
    "        \n",
    "    except Exception as e:\n",
    "        logging.error(f\"Monitoring error: {str(e)}\")\n",
    "\n",
    "# Run monitoring with alerts\n",
    "monitor_delta_table_with_alerts()\n"
   ]
  },
  {
   "cell_type": "markdown",
   "metadata": {
    "application/vnd.databricks.v1+cell": {
     "cellMetadata": {
      "byteLimit": 2048000,
      "rowLimit": 10000
     },
     "inputWidgets": {},
     "nuid": "6fb80ce1-e121-4ebf-b00c-f2d678ab0538",
     "showTitle": false,
     "tableResultSettingsMap": {},
     "title": ""
    }
   },
   "source": [
    "##Automate Data Collection"
   ]
  },
  {
   "cell_type": "code",
   "execution_count": 0,
   "metadata": {
    "application/vnd.databricks.v1+cell": {
     "cellMetadata": {
      "byteLimit": 2048000,
      "rowLimit": 10000
     },
     "inputWidgets": {},
     "nuid": "1fdffced-987d-437a-a6a9-69bf2bbc143c",
     "showTitle": false,
     "tableResultSettingsMap": {},
     "title": ""
    }
   },
   "outputs": [
    {
     "output_type": "stream",
     "name": "stdout",
     "output_type": "stream",
     "text": [
      "Requirement already satisfied: schedule in /local_disk0/.ephemeral_nfs/envs/pythonEnv-7b4e5e3d-0617-4968-ba95-14dd9552a773/lib/python3.9/site-packages (1.2.2)\r\n\u001B[33mWARNING: You are using pip version 21.2.4; however, version 24.3.1 is available.\r\nYou should consider upgrading via the '/local_disk0/.ephemeral_nfs/envs/pythonEnv-7b4e5e3d-0617-4968-ba95-14dd9552a773/bin/python -m pip install --upgrade pip' command.\u001B[0m\r\n"
     ]
    }
   ],
   "source": [
    "!pip install schedule"
   ]
  },
  {
   "cell_type": "code",
   "execution_count": 0,
   "metadata": {
    "application/vnd.databricks.v1+cell": {
     "cellMetadata": {
      "byteLimit": 2048000,
      "rowLimit": 10000
     },
     "inputWidgets": {},
     "nuid": "bbf3d4d5-dc2e-4e96-9544-75095d2407c1",
     "showTitle": false,
     "tableResultSettingsMap": {},
     "title": ""
    }
   },
   "outputs": [],
   "source": [
    "import requests\n",
    "import schedule\n",
    "import time\n",
    "import datetime\n",
    "from pyspark.sql import SparkSession\n",
    "\n",
    "# Initialize Spark session\n",
    "spark = SparkSession.builder.getOrCreate()\n",
    "\n",
    "# Function to fetch weather data\n",
    "def collect_weather_data():\n",
    "    response = requests.get(URL)\n",
    "    if response.status_code == 200:\n",
    "        data = response.json()\n",
    "        weather_data = {\n",
    "            'city': data['name'],\n",
    "            'temperature': data['main']['temp'],\n",
    "            'description': data['weather'][0]['description'],\n",
    "            'timestamp': datetime.datetime.now().isoformat(),\n",
    "        }\n",
    "\n",
    "        # Convert weather data to DataFrame\n",
    "        weather_df = spark.createDataFrame([weather_data])\n",
    "\n",
    "        # Save the DataFrame to Delta Lake\n",
    "        weather_df.write.format(\"delta\").mode(\"append\").save(\"/mntt/delta/weather_data\")\n",
    "        print(\"Weather data collected and stored successfully.\")\n",
    "\n",
    "    else:\n",
    "        print(f\"Error: {response.status_code}\")\n",
    "\n",
    "# Schedule the job to run at regular intervals\n",
    "schedule.every().hour.do(collect_weather_data) \n",
    "\n",
    "# Keep the scheduler running\n",
    "while True:\n",
    "    schedule.run_pending()\n",
    "    time.sleep(1)\n"
   ]
  },
  {
   "cell_type": "markdown",
   "metadata": {
    "application/vnd.databricks.v1+cell": {
     "cellMetadata": {
      "byteLimit": 2048000,
      "rowLimit": 10000
     },
     "inputWidgets": {},
     "nuid": "883b7bc9-7624-400f-8e79-26c92f8fd7d9",
     "showTitle": false,
     "tableResultSettingsMap": {},
     "title": ""
    }
   },
   "source": [
    "##Real-Time Weather Alerts"
   ]
  },
  {
   "cell_type": "code",
   "execution_count": 0,
   "metadata": {
    "application/vnd.databricks.v1+cell": {
     "cellMetadata": {
      "byteLimit": 2048000,
      "rowLimit": 10000
     },
     "inputWidgets": {},
     "nuid": "ad5c1529-ac45-4348-a738-53c0cfb6db92",
     "showTitle": false,
     "tableResultSettingsMap": {},
     "title": ""
    }
   },
   "outputs": [],
   "source": [
    "# Function to check weather conditions and trigger alerts\n",
    "def check_weather_alerts(weather_data):\n",
    "    temp_threshold = 30 \n",
    "    if weather_data['temperature'] - 273.15 > temp_threshold:\n",
    "        send_alert(f\"High temperature alert in {weather_data['city']}! Current temperature: {weather_data['temperature'] - 273.15:.2f}°C\")\n",
    "\n",
    "# Function to send alerts\n",
    "def send_alert(message):\n",
    "    print(\"ALERT:\", message)\n",
    "\n",
    "# Check weather alerts based on current data\n",
    "if weather_data:\n",
    "    check_weather_alerts(weather_data)"
   ]
  }
 ],
 "metadata": {
  "application/vnd.databricks.v1+notebook": {
   "dashboards": [
    {
     "elements": [
      {
       "dashboardResultIndex": null,
       "elementNUID": "a54e4330-2298-4141-a8dc-04c47d360cb0",
       "elementType": "command",
       "guid": "2fadbe32-981e-4f27-aec7-c2cfd7ff7286",
       "options": null,
       "position": {
        "height": 9,
        "width": 12,
        "x": 12,
        "y": 7,
        "z": null
       },
       "resultIndex": null
      },
      {
       "dashboardResultIndex": null,
       "elementNUID": "667d3568-09e9-415b-afd7-7b04c0b1985b",
       "elementType": "command",
       "guid": "4da211c5-2c72-44d8-a352-a6f00cf77ed1",
       "options": null,
       "position": {
        "height": 3,
        "width": 4,
        "x": 8,
        "y": 0,
        "z": null
       },
       "resultIndex": null
      },
      {
       "dashboardResultIndex": null,
       "elementNUID": "e40d7486-a478-4963-9e2a-7fae5cd9bfab",
       "elementType": "command",
       "guid": "7525e619-f0f6-4c1b-ac26-472c72ceaa63",
       "options": null,
       "position": {
        "height": 7,
        "width": 12,
        "x": 12,
        "y": 0,
        "z": null
       },
       "resultIndex": null
      },
      {
       "dashboardResultIndex": null,
       "elementNUID": "a18559bc-e0bc-4f2b-8fdf-391e864a5720",
       "elementType": "command",
       "guid": "8749904b-41cb-404f-9bf5-23adf4b02103",
       "options": null,
       "position": {
        "height": 6,
        "width": 12,
        "x": 0,
        "y": 3,
        "z": null
       },
       "resultIndex": null
      },
      {
       "dashboardResultIndex": null,
       "elementNUID": "e6aa1fb4-39cf-4ed3-a94d-7461b834fdcf",
       "elementType": "command",
       "guid": "ade40a96-3988-4e0e-b0ad-481d2a934dc9",
       "options": null,
       "position": {
        "height": 7,
        "width": 12,
        "x": 0,
        "y": 9,
        "z": null
       },
       "resultIndex": null
      },
      {
       "dashboardResultIndex": null,
       "elementNUID": "5ec80625-9b1d-49d4-87f5-27e24e577ae4",
       "elementType": "command",
       "guid": "f730bd67-9e38-47b5-8d11-33eae7fe3229",
       "options": null,
       "position": {
        "height": 3,
        "width": 8,
        "x": 0,
        "y": 0,
        "z": null
       },
       "resultIndex": null
      }
     ],
     "globalVars": {},
     "guid": "",
     "layoutOption": {
      "grid": true,
      "stack": true
     },
     "nuid": "1f5dc42c-6093-4318-a503-f38cef788b2f",
     "origId": 564635714050606,
     "title": "Dashboard",
     "version": "DashboardViewV1",
     "width": 800
    }
   ],
   "environmentMetadata": null,
   "language": "python",
   "notebookMetadata": {
    "mostRecentlyExecutedCommandWithImplicitDF": {
     "commandId": 564635714050613,
     "dataframes": [
      "_sqldf"
     ]
    },
    "pythonIndentUnit": 4
   },
   "notebookName": "Data Engineering On weather Data Collection",
   "widgets": {}
  }
 },
 "nbformat": 4,
 "nbformat_minor": 0
}
